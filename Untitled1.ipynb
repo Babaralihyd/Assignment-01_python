{
  "nbformat": 4,
  "nbformat_minor": 0,
  "metadata": {
    "colab": {
      "provenance": []
    },
    "kernelspec": {
      "name": "python3",
      "display_name": "Python 3"
    },
    "language_info": {
      "name": "python"
    }
  },
  "cells": [
    {
      "cell_type": "code",
      "execution_count": null,
      "metadata": {
        "colab": {
          "base_uri": "https://localhost:8080/"
        },
        "id": "l0XRmN8dPQf3",
        "outputId": "564a3784-6c95-475c-ec45-3c42a039a264"
      },
      "outputs": [
        {
          "output_type": "stream",
          "name": "stdout",
          "text": [
            "This is a string with single quotes\n",
            "This is a string with double quotes\n",
            "This is a string with triple quotes\n"
          ]
        }
      ],
      "source": [
        "# Python Strings Assignment\n",
        "# Part 1: Understanding String Literals\n",
        "#1 Create three different strings using each type of quotation\n",
        "SingleQuotes = 'This is a string with single quotes'\n",
        "DoubleQuotes = \"This is a string with double quotes\"\n",
        "TripleQuotes = \"\"\"This is a string with triple quotes\"\"\"\n",
        "print(SingleQuotes)\n",
        "print(DoubleQuotes)\n",
        "print(TripleQuotes)"
      ]
    },
    {
      "cell_type": "code",
      "source": [
        "#2  Explain in your own words: What is the advantage of each type of quotation?\n",
        "Exp_single = ' single =  Ideal for short strings, especially when the string does not contain double quotes. They are compact and easier to type for simple strings'\n",
        "Exp_double = \" double = Useful when the string contains single quotes. It avoids the need for escaping characters. \"\n",
        "Exp_triple = \"\"\" triple = Best for multi-line strings. This allows you to include line breaks, and it’s also useful when the string has both single and double quotes \"\"\"\n",
        "print(Exp_single)\n",
        "print(Exp_double)\n",
        "print(Exp_triple)\n"
      ],
      "metadata": {
        "colab": {
          "base_uri": "https://localhost:8080/"
        },
        "id": "Ha6WxatpSVId",
        "outputId": "a68bd242-ce08-453f-c7d2-c92b774a89ce"
      },
      "execution_count": null,
      "outputs": [
        {
          "output_type": "stream",
          "name": "stdout",
          "text": [
            " single =  Ideal for short strings, especially when the string does not contain double quotes. They are compact and easier to type for simple strings\n",
            " double = Useful when the string contains single quotes. It avoids the need for escaping characters. \n",
            " triple = Best for multi-line strings. This allows you to include line breaks, and it’s also useful when the string has both single and double quotes \n"
          ]
        }
      ]
    },
    {
      "cell_type": "code",
      "source": [
        "#3.  Write a string that contains both single and double quotes inside it.\n",
        "str = \"He said, 'It's a beautiful day in Ramzan\"\n",
        "print(str)\n"
      ],
      "metadata": {
        "colab": {
          "base_uri": "https://localhost:8080/"
        },
        "id": "s-MraihmVura",
        "outputId": "e3dab4b1-fbc3-412f-d14b-0d9d60f13df2"
      },
      "execution_count": null,
      "outputs": [
        {
          "output_type": "stream",
          "name": "stdout",
          "text": [
            "He said, 'It's a beautiful day in Ramzan\n"
          ]
        }
      ]
    },
    {
      "cell_type": "code",
      "source": [
        "# Create a multi-line string using triple quotes that describes your favorite hobby\n",
        "\n",
        "hobby = \"\"\"\n",
        "Over the past few months, I’ve been learning to code.\n",
        "It started as a necessity, but quickly became something I really enjoy.\n",
        "From experimenting with new projects to mastering the basics,\n",
        "each task is an opportunity to try something new.\n",
        "The process of writing code and sharing it with others has been incredibly rewarding.\n",
        "\"\"\"\n",
        "print(hobby)"
      ],
      "metadata": {
        "colab": {
          "base_uri": "https://localhost:8080/"
        },
        "id": "NYNTJDTqZdAq",
        "outputId": "26c2065d-363f-42bb-8d29-de047e8d7b43"
      },
      "execution_count": null,
      "outputs": [
        {
          "output_type": "stream",
          "name": "stdout",
          "text": [
            "\n",
            "Over the past few months, I’ve been learning to code. \n",
            "It started as a necessity, but quickly became something I really enjoy. \n",
            "From experimenting with new projects to mastering the basics, \n",
            "each task is an opportunity to try something new. \n",
            "The process of writing code and sharing it with others has been incredibly rewarding.\n",
            "\n"
          ]
        }
      ]
    },
    {
      "cell_type": "code",
      "source": [
        "#Part 2: String Methods Practice\n",
        "# 1 Create a variable full_name with your full name (first and last name). Then write code to:\n",
        "# uppercase\n",
        "# lowercase\n",
        "#the first letter of each name capitalized\n",
        "\n",
        "full_name = \"Babar ali\"\n",
        "\n",
        "print(full_name.upper())\n",
        "print(full_name.lower())\n",
        "print(full_name.title())"
      ],
      "metadata": {
        "colab": {
          "base_uri": "https://localhost:8080/"
        },
        "id": "R6xCcWXIamfH",
        "outputId": "fc1022af-38e6-4758-cae5-c99e3cc0ec27"
      },
      "execution_count": null,
      "outputs": [
        {
          "output_type": "stream",
          "name": "stdout",
          "text": [
            "BABAR ALI\n",
            "babar ali\n",
            "Babar Ali\n"
          ]
        }
      ]
    },
    {
      "cell_type": "code",
      "source": [
        "#2. Create a variable messy_text = \" Python programming is fun! \" Then write code to:\n",
        "#Remove all the extra spaces at the beginning and end\n",
        "#Replace \"fun\" with \"amazing\"\n",
        "#Count how many times the letter 'i' appears\n",
        "\n",
        "messy_text = \" python programing is fun! \"\n",
        "\n",
        "space_remove_text = messy_text.strip()\n",
        "print(space_remove_text)\n",
        "\n",
        "updated_text = messy_text.replace(\"fun\", \"amazing\")\n",
        "print(updated_text)\n",
        "\n",
        "count_appear_i = messy_text.count('i')\n",
        "print(count_appear_i,\"time\")\n",
        "\n",
        "\n",
        "\n"
      ],
      "metadata": {
        "colab": {
          "base_uri": "https://localhost:8080/"
        },
        "id": "O0W_MkcxdDQN",
        "outputId": "41eeb0e9-df2e-417c-8ed5-72020e34fb59"
      },
      "execution_count": null,
      "outputs": [
        {
          "output_type": "stream",
          "name": "stdout",
          "text": [
            "python programing is fun!\n",
            " python programing is amazing! \n",
            "2 time\n"
          ]
        }
      ]
    },
    {
      "cell_type": "code",
      "source": [
        "#3. Create a variable sentence = \"The quick brown fox jumps over the lazy dog\"  Then write code to:\n",
        "#Split this sentence into a list of words\n",
        "# Join the words back together with dashes between them\n",
        "# Check if the sentence starts with \"The\"\n",
        "# Find the position of the word \"fox\"\n",
        "\n",
        "\n",
        "sentence = \"The quick brown fox jumps over the lazy dog\"\n",
        "\n",
        "list = sentence.split()\n",
        "print(list)\n",
        "\n",
        "JoinedSentence = \"-\".join(list)\n",
        "print(JoinedSentence)\n",
        "\n",
        "StartsWithThe = sentence.startswith(\"The\")\n",
        "print(StartsWithThe)\n",
        "\n",
        "positionFox = sentence.find(\"fox\")\n",
        "print(positionFox)\n",
        "\n",
        "\n",
        "\n",
        "\n",
        "\n",
        "\n",
        "\n"
      ],
      "metadata": {
        "colab": {
          "base_uri": "https://localhost:8080/"
        },
        "id": "Kq4uzIW9fsVl",
        "outputId": "0d2d9b18-4f03-4c4a-93f6-c399b4b7c044"
      },
      "execution_count": null,
      "outputs": [
        {
          "output_type": "stream",
          "name": "stdout",
          "text": [
            "['The', 'quick', 'brown', 'fox', 'jumps', 'over', 'the', 'lazy', 'dog']\n",
            "The-quick-brown-fox-jumps-over-the-lazy-dog\n",
            "True\n",
            "16\n"
          ]
        }
      ]
    },
    {
      "cell_type": "code",
      "source": [
        "#Part3 F-Strings\n",
        "\n",
        "#1 Create variables for:\n",
        "#  Your name\n",
        "#  Your age\n",
        "#  Your favorite programming language\n",
        "#then\n",
        "#  \"My name is {your_name} and I am {your_age} years old.\"\n",
        "#  \"I enjoy programming in {language}, it's my favorite!\"\n",
        "#  Create a math expression inside an f-string: \"In 5 years, I will be {age + 5} years\n",
        "#  old.\"\n",
        "\n",
        "\n",
        "name = \"Babar Ali\"\n",
        "age = 25\n",
        "language = \"Python\"\n",
        "\n",
        "sentence1 = f\"My name is {name} and I am {age} years old.\"\n",
        "sentence2 = f\"I enjoy programming in {language}, it's my favorite!\"\n",
        "\n",
        "print(sentence1)\n",
        "print(sentence2)\n",
        "\n",
        "sentence3 = f\"In 5 years, I will be {age + 5} years old.\"\n",
        "print(sentence3)\n",
        "\n",
        "\n",
        "\n",
        "\n"
      ],
      "metadata": {
        "colab": {
          "base_uri": "https://localhost:8080/"
        },
        "id": "DeNDIFlQj9Lm",
        "outputId": "0e719d8f-93fd-408f-ce98-3f8935dc802a"
      },
      "execution_count": null,
      "outputs": [
        {
          "output_type": "stream",
          "name": "stdout",
          "text": [
            "My name is Babar Ali and I am 25 years old.\n",
            "I enjoy programming in Python, it's my favorite!\n",
            "In 5 years, I will be 30 years old.\n"
          ]
        }
      ]
    },
    {
      "cell_type": "code",
      "source": [
        "# Part 4: Combining String Methods with F-Strings\n",
        "# Create a program that:\n",
        "# 1. Asks for user input about their first name, last name, and birth year\n",
        "# 2. Uses string methods to properly capitalize their name\n",
        "# 3. Uses f-strings to create a profile message: \"Profile: {First Last}, Age: {calculated age},\n",
        "# Username: {first initial + last name + birth year}\"\n",
        "\n",
        "\n",
        "\n",
        "\n",
        "\n",
        "\n",
        "\n",
        "first_name = input(\"Enter your first name: \")\n",
        "last_name = input(\"Enter your last name: \")\n",
        "birth_year = int(input(\"Enter your birth year: \"))\n",
        "current_year = 2025\n",
        "\n",
        "print(first_name.capitalize())\n",
        "print(last_name.capitalize())\n",
        "\n",
        "age = current_year - birth_year\n",
        "username = f\" Name :{first_name.lower()} , Last Name :  {last_name.lower()} , Date of brith :   {birth_year} ,\"\n",
        "\n",
        "profile_message = f\"Profile: {first_name}  {last_name}, Age:  {age},  Username: {username}\"\n",
        "\n",
        "print(profile_message)"
      ],
      "metadata": {
        "colab": {
          "base_uri": "https://localhost:8080/"
        },
        "id": "Heo3PjFqtGvW",
        "outputId": "57795e0c-cfda-4d24-e7a3-0c3bd9784ced"
      },
      "execution_count": null,
      "outputs": [
        {
          "output_type": "stream",
          "name": "stdout",
          "text": [
            "Enter your first name: Babar\n",
            "Enter your last name: Ali\n",
            "Enter your birth year: 2005\n",
            "Babar\n",
            "Ali\n",
            "Profile: Babar  Ali, Age:  20,  Username:  Name :babar , Last Name :  ali , Date of brith :   2005 ,\n"
          ]
        }
      ]
    }
  ]
}